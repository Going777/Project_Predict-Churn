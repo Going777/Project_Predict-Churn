{
  "nbformat": 4,
  "nbformat_minor": 0,
  "metadata": {
    "colab": {
      "name": "AI_03_김정원_Project2.ipynb",
      "private_outputs": true,
      "provenance": []
    },
    "kernelspec": {
      "name": "python3",
      "display_name": "Python 3"
    },
    "language_info": {
      "name": "python"
    }
  },
  "cells": [
    {
      "cell_type": "markdown",
      "metadata": {
        "id": "IhEcoGm_j583"
      },
      "source": [
        "# Project2. 통신사 고객 이탈여부를 예측해보자"
      ]
    },
    {
      "cell_type": "markdown",
      "metadata": {
        "id": "VwXMCXNBeUwc"
      },
      "source": [
        "* 데이터 선정이유\n",
        "\n",
        ": 어떤 산업에서든 고객 유치도 중요하지만 기존 고객을 계속해서 유지하는 것 역시 중요하다. 이러한 문제에 있어 어떤 변수가 이탈율에 영향을 미치는지 알아보기 위해 해당 통신사 고객 이탈여부 데이터셋을 선택하게 되었다.\n",
        "\n",
        "* 문제 정의\n",
        "\n",
        ": 고객의 통신사 이탈 여부를 예측하는 문제 => `이진분류문제`\n",
        "\n",
        "* BaseLine Model\n",
        ": 분류 문제이기 때문에 최빈값으로 예측하는 모델을 기준모델로 삼음"
      ]
    },
    {
      "cell_type": "code",
      "metadata": {
        "id": "vY0sqYa7boMu"
      },
      "source": [
        "!sudo apt-get install -y fonts-nanum\n",
        "!sudo fc-cache -fv\n",
        "!rm ~/.cache/matplotlib -rf"
      ],
      "execution_count": null,
      "outputs": []
    },
    {
      "cell_type": "code",
      "metadata": {
        "id": "Nh_2hHPkAwPE"
      },
      "source": [
        "# 라이브러리 설치\n",
        "%%capture\n",
        "import sys\n",
        "\n",
        "if 'google.colab' in sys.modules:\n",
        "    # Install packages in Colab\n",
        "    !pip install category_encoders==2.*\n",
        "    !pip install eli5\n",
        "    # !pip install pandas-profiling==2.*\n",
        "    !pip install pdpbox\n",
        "    !pip install shap\n",
        "    !pip install xgboost"
      ],
      "execution_count": null,
      "outputs": []
    },
    {
      "cell_type": "code",
      "metadata": {
        "id": "70wn_iimQQ7b"
      },
      "source": [
        "# 라이브러리 불러오기\n",
        "import pandas as pd\n",
        "import numpy as np\n",
        "\n",
        "import matplotlib.pyplot as plt\n",
        "import seaborn as sns\n",
        "plt.rc('font', family='NanumBarunGothic')\n",
        "plt.rc('axes', unicode_minus=False)\n",
        "from pdpbox.pdp import pdp_isolate, pdp_plot, pdp_interact, pdp_interact_plot\n",
        "import shap\n",
        "\n",
        "# from pandas_profiling import ProfileReport\n",
        "from sklearn.model_selection import train_test_split\n",
        "from sklearn.model_selection import RandomizedSearchCV, GridSearchCV\n",
        "from sklearn.ensemble import RandomForestClassifier\n",
        "from sklearn.pipeline import make_pipeline, Pipeline\n",
        "from sklearn.linear_model import LogisticRegression\n",
        "from sklearn.preprocessing import StandardScaler\n",
        "from category_encoders import OneHotEncoder, TargetEncoder\n",
        "from xgboost import XGBClassifier\n",
        "\n",
        "import warnings\n",
        "warnings.filterwarnings('ignore')"
      ],
      "execution_count": null,
      "outputs": []
    },
    {
      "cell_type": "markdown",
      "metadata": {
        "id": "h3sC1Oz2EQYi"
      },
      "source": [
        "### Data Description\n",
        "* customerID : 고객 ID\n",
        "* gender : 고객의 성별 (Male, Female)\n",
        "* SeniorCitizen : 65세 이상 고객인지 (1:yes, 0:no)\n",
        "* Partner : 배우자 여부 (yes, no)\n",
        "* Dependents : 부양가족과 함께 살고 있는지 (yes, no)\n",
        "* tenure : 계약 유지 기간 (통신사와 함께하고 있는 기간)\n",
        "* PhoneService : 휴대폰 서비스 사용 여부\n",
        "* MultiplieLines : 여러 회선 서비스 사용 여부 (yes, no, 전화 서비스 없음)\n",
        "* InternetService : 인터넷 서비스 여부 (DSL, Fiber optic, No)\n",
        "* OnlineSecurity : 온라인 보안 서비스 사용 여부\n",
        "* OnlineBackup : 온라인 백업 서비스 사용 여부\n",
        "*DeviceProtection : 장치 보호 서비스 사용 여부\n",
        "*TechSupport : 기술지원 서비스 사용 여부\n",
        "*StreamingTV : 스트리밍 TV 서비스 사용 여부\n",
        "*StreamingMovies : 스트리밍 영화 서비스 사용 여부\u001f\n",
        "*Contract : 계약 형태 (Month to Month, One year, Two years)\n",
        "*PaperlessBilling : 종이영수증 사용 여부 (Yes, No)\n",
        "*PaymentMethod : 결제 수단 () \n",
        "*MonthlyCharges : 월 납부액\u001f\n",
        "*TotalCharges : 전체 기간 납부액\n",
        "*Churn : 지난달 기준 통신사 이탈 여부 (yes, no)\n"
      ]
    },
    {
      "cell_type": "code",
      "metadata": {
        "id": "RROPXVr9A7qR"
      },
      "source": [
        "# 데이터 불러오기\n",
        "data = pd.read_csv(\"/content/WA_Fn-UseC_-Telco-Customer-Churn.csv\")\n",
        "\n",
        "# 데이터로부터 패턴을 알아내는 것이 중요하기 때문에, 분석에 customerID 칼럼은 필요없다고 판단 -> 삭제처리\n",
        "data.drop(columns=[\"customerID\"], inplace=True)\n",
        "\n",
        "# 컬럼명 소문자로 통일\n",
        "col_lower = [name.lower() for name in data.columns]\n",
        "data.columns = col_lower\n",
        "data.shape"
      ],
      "execution_count": null,
      "outputs": []
    },
    {
      "cell_type": "markdown",
      "metadata": {
        "id": "dW06eaATj5uQ"
      },
      "source": [
        "## 1. 데이터 전처리\n",
        "### 1. 데이터 살펴보기"
      ]
    },
    {
      "cell_type": "code",
      "metadata": {
        "id": "6W0_G-b1j5VP"
      },
      "source": [
        "# profile = ProfileReport(train).to_notebook_iframe()"
      ],
      "execution_count": null,
      "outputs": []
    },
    {
      "cell_type": "code",
      "metadata": {
        "id": "Z3LO0jtZBIVA"
      },
      "source": [
        "# 데이터 중복행 확인 및 삭제\n",
        "print(data.duplicated().sum()) # 22개의 중복행 존재\n",
        "data.drop_duplicates(inplace=True)"
      ],
      "execution_count": null,
      "outputs": []
    },
    {
      "cell_type": "code",
      "metadata": {
        "id": "BXyKd4Psgz-H"
      },
      "source": [
        "# 데이터 타입 확인\n",
        "data.info()"
      ],
      "execution_count": null,
      "outputs": []
    },
    {
      "cell_type": "markdown",
      "metadata": {
        "id": "L9jeW96KhLi5"
      },
      "source": [
        "* data description과 비교해봤을 때, totalcharges 칼럼은 숫자형으로 되어 있어야 함 -> 데이터타입 변환 필요"
      ]
    },
    {
      "cell_type": "code",
      "metadata": {
        "id": "nWbaJ-ndhDL8"
      },
      "source": [
        "sorted(data[\"totalcharges\"].unique())[:10] "
      ],
      "execution_count": null,
      "outputs": []
    },
    {
      "cell_type": "markdown",
      "metadata": {
        "id": "O67EfCiViBgG"
      },
      "source": [
        "* totalcharges 칼럼을 바로 숫자형으로 변환하는 것이 불가능 했다. 그 이유는 값 중에 ' '와 같이 스페이스가 들어간 빈칸의 값이 존재했기 때문이다\n",
        "* 해당 값을 결측값으로 대체하는 과정이 필요하다"
      ]
    },
    {
      "cell_type": "code",
      "metadata": {
        "id": "02H6-3wBDeS_"
      },
      "source": [
        "data[\"totalcharges\"] = data[\"totalcharges\"].replace(\" \", np.nan) # 결측값으로 대체\n",
        "\n",
        "data[\"totalcharges\"] = data[\"totalcharges\"].astype(\"float\") # 숫자형(float)으로 형변환"
      ],
      "execution_count": null,
      "outputs": []
    },
    {
      "cell_type": "code",
      "metadata": {
        "id": "9pp_dMtlEGIM"
      },
      "source": [
        "# 결측치 확인\n",
        "data.isnull().sum()"
      ],
      "execution_count": null,
      "outputs": []
    },
    {
      "cell_type": "markdown",
      "metadata": {
        "id": "Dgkqj80ykI4L"
      },
      "source": [
        "* totalcharges 칼럼에 11개의 결측치가 확인된다."
      ]
    },
    {
      "cell_type": "code",
      "metadata": {
        "id": "pgzROH2gkAy2"
      },
      "source": [
        "# 결측치 행 확인\n",
        "print(data[data[\"totalcharges\"].isnull()].shape[0])\n",
        "data[data[\"totalcharges\"].isnull()]"
      ],
      "execution_count": null,
      "outputs": []
    },
    {
      "cell_type": "markdown",
      "metadata": {
        "id": "m7GNogVMwNmI"
      },
      "source": [
        "* 결측치 행을 살펴봤을 때, 공통적으로 tenure칼럼이 0인 것을 확인할 수 있었다\n",
        "* 아래의 경우, tenure == 0 인 경우를 출력해보았다"
      ]
    },
    {
      "cell_type": "code",
      "metadata": {
        "id": "wLxUEgULFue9"
      },
      "source": [
        "print(data[data[\"tenure\"] == 0].shape[0])\n",
        "data[data[\"tenure\"] == 0]"
      ],
      "execution_count": null,
      "outputs": []
    },
    {
      "cell_type": "markdown",
      "metadata": {
        "id": "_el-bg3rwb-3"
      },
      "source": [
        "* tenure == 0인 행과 TotalCharge가 결측값인 행이 정확히 일치한다\n",
        "* 이는 계약 유지기간이 0개월이기 때문에 아직까지는 돈을 지불하지 않은 것으로 예측해볼 수 있다 \n",
        "* 따라서 TotalCharge 칼럼의 결측값은 0으로 처리하면 될 것 같다"
      ]
    },
    {
      "cell_type": "code",
      "metadata": {
        "id": "104MdQGXs9lI"
      },
      "source": [
        "# 결측값 처리\n",
        "data.totalcharges.fillna(0, inplace=True)\n",
        "\n",
        "data.isnull().sum().sum() # 결측값 처리 완료"
      ],
      "execution_count": null,
      "outputs": []
    },
    {
      "cell_type": "code",
      "metadata": {
        "id": "RsvjrFgSeyM9"
      },
      "source": [
        "# Category형 칼럼 범주 확인\n",
        "for col in data.columns:\n",
        "    if data[col].nunique() <= 10:\n",
        "        print('{:<16}: {}'.format(col, data[col].unique()))"
      ],
      "execution_count": null,
      "outputs": []
    },
    {
      "cell_type": "markdown",
      "metadata": {
        "id": "mckVdLsctjSm"
      },
      "source": [
        "* {Yes, No}와 같이 이진 범주를 가진 칼럼이 대다수\n",
        "* {No phone/internet service} 범주는 결국 그 서비스를 이용하지 않고 있다는 뜻 => No로 통일"
      ]
    },
    {
      "cell_type": "code",
      "metadata": {
        "id": "xeoTy9fitjo4"
      },
      "source": [
        "# No phone/internet service 범주 가진 칼럼은 No범주로 바꿔주기\n",
        "for col in data.columns:\n",
        "    if data[col].nunique() == 3:\n",
        "        data[col] = data[col].apply(lambda x: \"No\" if \"service\" in x else x)"
      ],
      "execution_count": null,
      "outputs": []
    },
    {
      "cell_type": "markdown",
      "metadata": {
        "id": "o1aZAqLxN2a6"
      },
      "source": [
        "### EDA"
      ]
    },
    {
      "cell_type": "code",
      "metadata": {
        "id": "XABmDoNWi9AG"
      },
      "source": [
        "# Data Leakage 방지 위해 트레인/테스트 셋으로 나누고 분석 (8:2)\n",
        "train, test = train_test_split(data, train_size=0.8, random_state=2)\n",
        "print(train.shape, test.shape)\n",
        "print(train.columns)\n",
        "train.head(2)"
      ],
      "execution_count": null,
      "outputs": []
    },
    {
      "cell_type": "code",
      "metadata": {
        "id": "fJC6R5xZYj7S"
      },
      "source": [
        "# 타겟 변수\n",
        "target = \"churn\"\n",
        "target_perc = train[target].value_counts(normalize=True)\n",
        "label = [\"No\",\"Yes\"]\n",
        "\n",
        "explode = [0.03] * len(label)\n",
        "cmap = plt.cm.Spectral\n",
        "colors = cmap(np.linspace(0, 1.3, 2))\n",
        "\n",
        "fig, ax = plt.subplots(figsize=(6,6), constrained_layout=True)\n",
        "ax.pie(target_perc, startangle=-20, counterclock=False,  colors=colors, explode=explode,\n",
        "        autopct=\"%.2f%%\", textprops={'fontsize': 20, 'weight': 'bold', 'color': 'white'})\n",
        "ax.set_title(\"고객 이탈 여부\", fontsize=22, weight=\"bold\",loc=\"center\")\n",
        "plt.legend(label, fontsize=18, bbox_to_anchor=(1, 0.9))\n",
        "plt.show();"
      ],
      "execution_count": null,
      "outputs": []
    },
    {
      "cell_type": "markdown",
      "metadata": {
        "id": "KzBZbzoreff3"
      },
      "source": [
        "* 타겟 변수인 고객 이탈여부를 살펴보면, 이탈한 사람이 약 26.5%, 이탈하지 않은 사람이 약 73.5%로 imbalanced된 데이터이다.\n",
        "* 추후 분석시 class_weight 조정 또는 업/다운 샘플링을 통해 어느정도 데이터 균형을 맞춰주는 작업이 필요할 것 같다."
      ]
    },
    {
      "cell_type": "code",
      "metadata": {
        "id": "CZS2fjsltjzY"
      },
      "source": [
        "# 성별\n",
        "f, ax = plt.subplots(1,2, figsize=(30,8))\n",
        "sns.set(font_scale=2)\n",
        "sns.set_palette(\"Set2\")\n",
        "sns.set_style(\"whitegrid\")\n",
        "\n",
        "sns.countplot(train[\"gender\"], ax=ax[0])\n",
        "sns.countplot(train[\"gender\"], hue=train[target], ax=ax[1]);"
      ],
      "execution_count": null,
      "outputs": []
    },
    {
      "cell_type": "markdown",
      "metadata": {
        "id": "qvGtyvAAAvi6"
      },
      "source": [
        "* 좌측 그림을 살펴보면 수집된 데이터에 성별의 차이는 없어 보인다.\n",
        "* 우측 그림을 살펴보면 고객 이탈여부에 성별은 그다지 영향을 끼치지 않는 것 같다."
      ]
    },
    {
      "cell_type": "code",
      "metadata": {
        "id": "P8lZDNZcYAyS"
      },
      "source": [
        "# seniorcitizen(고령자)\n",
        "f, ax = plt.subplots(1,2, figsize=(30,8))\n",
        "sns.countplot(train[\"seniorcitizen\"], ax=ax[0])\n",
        "ax[0].set(ylabel=\"\", xticklabels=[\"No\",\"Yes\"], title=\"Senior citizen count plot\")\n",
        "sns.countplot(train[\"seniorcitizen\"], hue=train[target], ax=ax[1])\n",
        "ax[1].set(ylabel=\"\", xticklabels=[\"No\",\"Yes\"], title=\"Senior citizen count plot by churn\");"
      ],
      "execution_count": null,
      "outputs": []
    },
    {
      "cell_type": "markdown",
      "metadata": {
        "id": "x6wAokZBeEoG"
      },
      "source": [
        "* 데이터상으로 고령자의 데이터는 부족하다.\n",
        "* 하지만 고령자의 경우 이탈율이 상대적으로 높은 상황이다.\n",
        "* 데이터 개수가 적어 모델 변수 중요도에서 낮게 나올수도 있으나, 고령화 사회를 접어들고 있는 지금, 이러한 현황은 추후 중요하게 다뤄야할 부분으로 보인다"
      ]
    },
    {
      "cell_type": "code",
      "metadata": {
        "id": "vrSh2yvoYA3i"
      },
      "source": [
        "# 배우자(partner), 부양가족(dependents)\n",
        "f, ax = plt.subplots(1,2, figsize=(30,8))\n",
        "sns.countplot(train[\"partner\"], hue=train[target], ax=ax[0])\n",
        "ax[0].set(ylabel=\"\")\n",
        "sns.countplot(train[\"dependents\"], hue=train[target], ax=ax[1])\n",
        "ax[1].set(ylabel=\"\");"
      ],
      "execution_count": null,
      "outputs": []
    },
    {
      "cell_type": "markdown",
      "metadata": {
        "id": "iWWK2H8JkEB0"
      },
      "source": [
        "* 배우자(parter)나 부양가족(dependents)이 있는 경우 이탈율이 상대적으로 낮다."
      ]
    },
    {
      "cell_type": "code",
      "metadata": {
        "id": "iwaAXleZYA54"
      },
      "source": [
        "# phoneservice, multilines(여러 회신 서비스)\n",
        "f, ax = plt.subplots(1,2, figsize=(30,8))\n",
        "sns.countplot(train[\"phoneservice\"], hue=train[target], ax=ax[0])\n",
        "ax[0].set(ylabel=\"\")\n",
        "sns.countplot(train[\"multiplelines\"], hue=train[target], ax=ax[1])\n",
        "ax[1].set(ylabel=\"\");"
      ],
      "execution_count": null,
      "outputs": []
    },
    {
      "cell_type": "markdown",
      "metadata": {
        "id": "u-dCrzgkYA9E"
      },
      "source": [
        "* 대부분 고객들은 폰 서비스를 활용하고 있다\n",
        "* 비율적으로 봤을 때 여러회선을 사용하고 있는 경우, 조금 이탈율이 낮은 것 같다 => 결합할인을 받고 있을 가능성이 있다"
      ]
    },
    {
      "cell_type": "code",
      "metadata": {
        "id": "GeuSjXqwTDki"
      },
      "source": [
        "# 인터넷서비스\n",
        "f,ax = plt.subplots(1,2, figsize=(20,5))\n",
        "sns.countplot(train[\"internetservice\"], ax=ax[0])\n",
        "ax[0].set(ylabel=\"\")\n",
        "sns.countplot(train[\"internetservice\"], hue=train[target], ax=ax[1])\n",
        "ax[1].set(ylabel=\"\");"
      ],
      "execution_count": null,
      "outputs": []
    },
    {
      "cell_type": "markdown",
      "metadata": {
        "id": "CKXKMGxAuPuv"
      },
      "source": [
        "* 인터넷 서비스 현황을 살펴보면, Fiber optic, DSL 순으로 많이 사용하고 있다\n",
        "* 하지만 Fiber optic의 경우 이탈비율이 높다 => 고객들이 해당 서비스에 만족하지 못하고 있다\n",
        "* DSL은 상대적으로 고객들이 만족할만한 인터넷서비스를 제공하고 있는 것으로 보인다"
      ]
    },
    {
      "cell_type": "code",
      "metadata": {
        "id": "XlWHknluur2S"
      },
      "source": [
        "# 온라인 기술관련 서비스(onlinesecurity, onlinebackup, deviceprotection, techsupport)\n",
        "f,ax = plt.subplots(4,2, figsize=(20,20))\n",
        "sns.set(font_scale=1.5)\n",
        "sns.set_palette(\"Set2\")\n",
        "sns.set_style(\"whitegrid\")\n",
        "\n",
        "sns.countplot(train[\"onlinesecurity\"], ax=ax[0,0])\n",
        "ax[0,0].set(ylabel=\"\")\n",
        "sns.countplot(train[\"onlinesecurity\"], hue=train[target], ax=ax[0,1])\n",
        "ax[0,1].set(ylabel=\"\")\n",
        "\n",
        "sns.countplot(train[\"onlinebackup\"], ax=ax[1,0])\n",
        "ax[1,0].set(ylabel=\"\")\n",
        "sns.countplot(train[\"onlinebackup\"], hue=train[target], ax=ax[1,1])\n",
        "ax[1,1].set(ylabel=\"\")\n",
        "\n",
        "sns.countplot(train[\"deviceprotection\"], ax=ax[2,0])\n",
        "ax[2,0].set(ylabel=\"\")\n",
        "sns.countplot(train[\"deviceprotection\"], hue=train[target], ax=ax[2,1])\n",
        "ax[2,1].set(ylabel=\"\")\n",
        "\n",
        "sns.countplot(train[\"techsupport\"], ax=ax[3,0])\n",
        "ax[3,0].set(ylabel=\"\")\n",
        "sns.countplot(train[\"techsupport\"], hue=train[target], ax=ax[3,1])\n",
        "ax[3,1].set(ylabel=\"\");"
      ],
      "execution_count": null,
      "outputs": []
    },
    {
      "cell_type": "markdown",
      "metadata": {
        "id": "_xvsb5ESur4z"
      },
      "source": [
        "* 통신사에서 제공하는 온라인 기술관련 서비스의 각각의 사용률 및 그에 따른 이탈여부의 분포는 거의 비슷하다\n",
        "* 대체로 해당 서비스를 이용하고 있지 않았고, 이용하는 사람은 이탈할 확률이 좀 더 낮다 -> 온라인 서비스에 만족하고 있다 "
      ]
    },
    {
      "cell_type": "code",
      "metadata": {
        "id": "gt4DbSWqur7P"
      },
      "source": [
        "# 스트리밍 서비스(streamingTv, streamingMovie)\n",
        "f,ax = plt.subplots(2,2, figsize=(20,10))\n",
        "\n",
        "sns.countplot(train[\"streamingtv\"], ax=ax[0,0])\n",
        "ax[0,0].set(ylabel=\"\")\n",
        "sns.countplot(train[\"streamingtv\"], hue=train[target], ax=ax[0,1])\n",
        "ax[0,1].set(ylabel=\"\")\n",
        "\n",
        "sns.countplot(train[\"streamingmovies\"], ax=ax[1,0], order=[\"No\",\"Yes\"])\n",
        "ax[1,0].set(ylabel=\"\")\n",
        "sns.countplot(train[\"streamingmovies\"], hue=train[target], order=[\"No\",\"Yes\"], ax=ax[1,1])\n",
        "ax[1,1].set(ylabel=\"\");\n"
      ],
      "execution_count": null,
      "outputs": []
    },
    {
      "cell_type": "markdown",
      "metadata": {
        "id": "TV8uiLY3ur-s"
      },
      "source": [
        "* 스트리밍 서비스를 사용하지 않는 고객의 수가 더 많다\n",
        "* 스트리밍 서비스를 사용하는 고객의 이탈율이 조금 더 높아 보인다 => 스트리밍 서비스 보완 필요"
      ]
    },
    {
      "cell_type": "code",
      "metadata": {
        "id": "VP-lNfJuzyyN"
      },
      "source": [
        "# contract(계약형태)\n",
        "f,ax = plt.subplots(1,2, figsize=(20,8))\n",
        "sns.countplot(train[\"contract\"], ax=ax[0])\n",
        "ax[0].set(ylabel=\"\")\n",
        "sns.countplot(train[\"contract\"], hue=train[target], ax=ax[1])\n",
        "ax[1].set(ylabel=\"\");"
      ],
      "execution_count": null,
      "outputs": []
    },
    {
      "cell_type": "markdown",
      "metadata": {
        "id": "w_lXKqkd0No7"
      },
      "source": [
        "* 매달 계약하는 고객의 수가 상대적으로 많다\n",
        "* 장기계약하는 고객일수록 기존 통신사에서 이탈할 확률이 적고, 단기계약하는 고객이수록 이탈할 확률이 높다\n",
        "* 단기계약 고객을 장기계약할 수 있도록 할 수 있는 유인책을 생각해보아야 한다"
      ]
    },
    {
      "cell_type": "code",
      "metadata": {
        "id": "VKEmJbg98Nbu"
      },
      "source": [
        "# 종이 영수증 사용여부\n",
        "f,ax = plt.subplots(1,2, figsize=(20,8))\n",
        "sns.countplot(train[\"paperlessbilling\"], ax=ax[0])\n",
        "ax[0].set(ylabel=\"\")\n",
        "sns.countplot(train[\"paperlessbilling\"], hue=train[target], ax=ax[1])\n",
        "ax[1].set(ylabel=\"\");"
      ],
      "execution_count": null,
      "outputs": []
    },
    {
      "cell_type": "markdown",
      "metadata": {
        "id": "gj1QxGpl8eUv"
      },
      "source": [
        "* paperlessbilling 서비스를 사용한다는 것은 종이영수증을 받지않고, 전자영수증 또는 어플로 처리하겠다는 뜻이다\n",
        "* 종이영수증을 사용하는 고객들에 비해 사용하지 않는 고객들이 많으나 그만큼 이탈자도 많다 => 해당 서비스의 품질이 좋지 않은 것은 아닌지 검토 필요"
      ]
    },
    {
      "cell_type": "code",
      "metadata": {
        "id": "rbiaXd0Hzy8u"
      },
      "source": [
        "# 지불방식\n",
        "f,ax = plt.subplots(2,1, figsize=(20,10))\n",
        "sns.countplot(train[\"paymentmethod\"], ax=ax[0])\n",
        "ax[0].set(ylabel=\"\")\n",
        "sns.countplot(train[\"paymentmethod\"], hue=train[target], ax=ax[1])\n",
        "ax[1].set(ylabel=\"\");"
      ],
      "execution_count": null,
      "outputs": []
    },
    {
      "cell_type": "markdown",
      "metadata": {
        "id": "Ty1wIgHozzAR"
      },
      "source": [
        "* Electronic Check방식을 가장 많이 사용하고 있으나, 이탈고객도 가장 많다 => 검토 필요"
      ]
    },
    {
      "cell_type": "code",
      "metadata": {
        "id": "8hVPaRQ8CYvu"
      },
      "source": [
        "# 계약 유지기간\n",
        "f,ax = plt.subplots(1,1,figsize=(20,7))\n",
        "sns.kdeplot(train.tenure[(train[\"churn\"] == 'No') ],\n",
        "                ax=ax, color=\"Red\", shade = True)\n",
        "sns.kdeplot(train.tenure[(train[\"churn\"] == 'Yes') ],\n",
        "                ax =ax, color=\"Blue\", shade= True)\n",
        "ax.legend([\"Not Churn\",\"Churn\"],loc='upper right')\n",
        "ax.set_ylabel('Density')\n",
        "ax.set_xlabel('Tenure')\n",
        "ax.set_title(\"Dist'n of tenure by churn\");"
      ],
      "execution_count": null,
      "outputs": []
    },
    {
      "cell_type": "markdown",
      "metadata": {
        "id": "KqAkrqcQzy5n"
      },
      "source": [
        "* 계약 유지 기간이 길어질수록 이탈하는 고객은 확연하게 줄어든다\n",
        "* 위에서 살펴봤던 계약형태와도 밀접한 관련이 있어보인다"
      ]
    },
    {
      "cell_type": "code",
      "metadata": {
        "id": "tvuW0WYF9cDm"
      },
      "source": [
        "# 월 청구액 / 전체 지불액\n",
        "f,ax = plt.subplots(2,1,figsize=(20,16))\n",
        "sns.kdeplot(train.monthlycharges[(train[\"churn\"] == 'No') ],\n",
        "                ax=ax[0], color=\"Red\", shade = True)\n",
        "sns.kdeplot(train.monthlycharges[(train[\"churn\"] == 'Yes') ],\n",
        "                ax =ax[0], color=\"Blue\", shade= True)\n",
        "ax[0].legend([\"Not Churn\",\"Churn\"],loc='upper right')\n",
        "ax[0].set_ylabel('Density')\n",
        "ax[0].set_xlabel('Monthly Charges')\n",
        "ax[0].set_title(\"Dist'n of monthly charges by churn\")\n",
        "\n",
        "sns.kdeplot(train.totalcharges[(train[\"churn\"] == 'No') ],\n",
        "                ax=ax[1], color=\"Red\", shade = True)\n",
        "sns.kdeplot(train.totalcharges[(train[\"churn\"] == 'Yes') ],\n",
        "                ax =ax[1], color=\"Blue\", shade= True)\n",
        "ax[1].legend([\"Not Churn\",\"Churn\"],loc='upper right')\n",
        "ax[1].set_ylabel('Density')\n",
        "ax[1].set_xlabel('Total Charges')\n",
        "ax[1].set_title(\"Dist'n of total charges by churn\")"
      ],
      "execution_count": null,
      "outputs": []
    },
    {
      "cell_type": "markdown",
      "metadata": {
        "id": "8BXQsh1r9cGp"
      },
      "source": [
        "* 월 청구액이 많을수록 이탈확률이 높다\n",
        "* 전체 청구액이 적을수록 이탈확률이 높다 (tenure와 연관되어 보임) => tenure(계약 유지기간)의 값이 작다는 것이 곧 전체 납부액이 적다는 말과 일맥상통"
      ]
    },
    {
      "cell_type": "markdown",
      "metadata": {
        "id": "uJmAKbhNuanF"
      },
      "source": [
        "### Feature Engineering"
      ]
    },
    {
      "cell_type": "code",
      "metadata": {
        "id": "TQvZwidMbvNG"
      },
      "source": [
        "train2 = train.copy()\n",
        "train2[\"predict\"] = train2[\"tenure\"] * train2[\"monthlycharges\"]\n",
        "train2[[\"tenure\",\"monthlycharges\",\"totalcharges\",\"predict\"]]"
      ],
      "execution_count": null,
      "outputs": []
    },
    {
      "cell_type": "markdown",
      "metadata": {
        "id": "2I1wqFtJb9g6"
      },
      "source": [
        "* 계약 유지기간(tenure)동안 원래 설정했던 서비스를 변동없이 계속해서 사용했다면 월 납부액은 동일했을 것이다 \n",
        "* 그렇다면 **`계약 유지기간(tenure) * 월납부액(monthlycharges) = 전채납부액(totalcharges)`**의 식이 성립해야 한다고 생각했다\n",
        "* 하지만 대부분 위에서 예측한 예상과 동일하지 않았다 -> 달에 따라 고객이 서비스 가입 상품을 바꿨을 수도 있고 프로모션 혜택을 받았을 수도 있을 것 같다\n",
        "* 따라서 계약기간동안 동일한 월납부액을 냈다는 가정하에 예상금액과 실제 전체 납부액 간의 차이를 나타내 주는 칼럼을 추가해주었다"
      ]
    },
    {
      "cell_type": "code",
      "metadata": {
        "id": "2lDewC8JueH0"
      },
      "source": [
        "def engineer(df):\n",
        "    # 예상 전체 납부액과 실제 전체 납부액의 차이 칼럼 추가\n",
        "    df[\"prediceted_diff\"] = (df[\"tenure\"] * df[\"monthlycharges\"]) - df[\"totalcharges\"]\n",
        "\n",
        "    # {yes/no, male/female}범주의 칼럼 1,0으로 인코딩\n",
        "    for col in df.columns:\n",
        "        if df[col].nunique() == 2:\n",
        "            df[col] = df[col].apply(lambda x: 1 if (x==\"Yes\") or (x==\"Male\") else 0 if (x==\"No\") or (x==\"Female\") else x)\n",
        "\n",
        "    # 온라인 기술관련 서비스 가입 개수\n",
        "    df[\"#security_service\"] = df[\"onlinesecurity\"] + df[\"onlinebackup\"] + df[\"deviceprotection\"] + df[\"techsupport\"]\n",
        "\n",
        "    # 스트리밍 서비스 가입 개수\n",
        "    df[\"#streaming_service\"] = df[\"streamingtv\"] + df[\"streamingmovies\"]\n",
        "\n",
        "    return df\n",
        "\n",
        "train = engineer(train)\n",
        "test = engineer(test)"
      ],
      "execution_count": null,
      "outputs": []
    },
    {
      "cell_type": "markdown",
      "metadata": {
        "id": "scF-T-rH9cJ1"
      },
      "source": [
        "## 모델링\n",
        "* 평가지표 : Accuracy, Recall, F1_score, AUC\n",
        "* 정확도만 가지고 평가하기에는 데이터 불균형으로 인해 우리 예측하고자 하는 타겟(이탈자)을 제대로 예측하지 못하는 경우가 생긴다.\n",
        "* 때문에 정확도와 더불어 Recall, F1_score, AUC를 함께 고려해 주어야 한다"
      ]
    },
    {
      "cell_type": "code",
      "metadata": {
        "id": "m9RfPAErKsJK"
      },
      "source": [
        "# 모델 평가지표 출력 함수\n",
        "def evaluate(model, X, y):\n",
        "    pred = model.predict(X)\n",
        "    accuracy = accuracy_score(y, pred)\n",
        "    recall = recall_score(y, pred)\n",
        "    auc = roc_auc_score(y, pred)\n",
        "    f1 = f1_score(y, pred)\n",
        "    \n",
        "    print(\"Accuracy:\", accuracy)\n",
        "    print(\"F1_score: \", f1)\n",
        "    print(\"Recall: \", recall)\n",
        "    print(\"AUC: \", auc)\n",
        "    print(\"-----------------------------\\n\")"
      ],
      "execution_count": null,
      "outputs": []
    },
    {
      "cell_type": "code",
      "metadata": {
        "id": "hwwdPy_7Huqg"
      },
      "source": [
        "# 학습/검증셋으로 나누기\n",
        "train,val = train_test_split(train, train_size=0.8)\n",
        "\n",
        "# 타겟/독립변수로 나누기\n",
        "y_train = train[target]\n",
        "X_train = train.drop(columns=target)\n",
        "\n",
        "y_val = val[target]\n",
        "X_val = val.drop(columns=target)\n",
        "\n",
        "y_test = test[target]\n",
        "X_test = test.drop(columns=target)"
      ],
      "execution_count": null,
      "outputs": []
    },
    {
      "cell_type": "code",
      "metadata": {
        "id": "QkcLpib-oSwx"
      },
      "source": [
        "# 인코딩, 스케일링 진행\n",
        "preprocessing_pipe = Pipeline(\n",
        "    [(\"encoder\",OneHotEncoder(use_cat_names=True)),\n",
        "    (\"scaler\",StandardScaler())])\n",
        "preprocessing_pipe.fit(X_train)\n",
        "\n",
        "X_train_pre = preprocessing_pipe.transform(X_train)\n",
        "X_val_pre = preprocessing_pipe.transform(X_val)"
      ],
      "execution_count": null,
      "outputs": []
    },
    {
      "cell_type": "markdown",
      "metadata": {
        "id": "P97UAgvc9cMD"
      },
      "source": [
        "### Baseline Model\n",
        "* 타겟 변수의 최빈값으로 예측하는 모델"
      ]
    },
    {
      "cell_type": "code",
      "metadata": {
        "id": "H8bHj7Y2RZCn"
      },
      "source": [
        "from sklearn.metrics import accuracy_score, f1_score, roc_curve, roc_auc_score, auc, confusion_matrix, recall_score\n",
        "\n",
        "major = y_train.mode()[0] # 최빈값 추출\n",
        "pred_train = [major] * len(y_train) # 최빈값으로 트레인 데이터셋 예측\n",
        "\n",
        "pred_val = [major] * len(y_val) # 최빈값으로 검정 데이터셋 예측\n",
        "\n",
        "print(\"--- train --------\")\n",
        "print(\"Accuracy:\",accuracy_score(y_train, pred_train)) # 정확도\n",
        "print(\"F1_score:\",f1_score(y_train, pred_train)) # F1_score\n",
        "print(\"Recall:\",recall_score(y_train, pred_train)) # F1_score\n",
        "print(\"AUC\",roc_auc_score(y_train, pred_train)) # ROC-curve의 면적(AUC)\n",
        "\n",
        "print(\"--- validation --------\")\n",
        "print(\"Accuracy:\",accuracy_score(y_val, pred_val))\n",
        "print(\"F1_score:\",f1_score(y_val, pred_val))\n",
        "print(\"Recall:\",recall_score(y_val, pred_val)) # F1_score\n",
        "print(\"AUC\",roc_auc_score(y_val, pred_val))"
      ],
      "execution_count": null,
      "outputs": []
    },
    {
      "cell_type": "markdown",
      "metadata": {
        "id": "zvXZ4xAGkLTX"
      },
      "source": [
        "* 정확도는 어느정도 높지만, 재현율, F1_score, AUC와 같은 다른 모델 평가 지표에서는 형편없는 성능을 보인다\n",
        "* 이는 타겟 변수의 데이터 불균형으로부터 비롯된 것으로 보인다\n",
        "* 해당 부분을 보완하여 모델을 학습시킬 필요가 있다."
      ]
    },
    {
      "cell_type": "markdown",
      "metadata": {
        "id": "WXa_bBJmlaxj"
      },
      "source": [
        "### UpSampling"
      ]
    },
    {
      "cell_type": "code",
      "metadata": {
        "id": "kQVL6v0ZnRy9"
      },
      "source": [
        "from imblearn.over_sampling import SMOTE\n",
        "\n",
        "X_train_upsample, y_train_upsample = SMOTE(random_state=42).fit_resample(X_train_pre, y_train)\n",
        "pd.DataFrame(y_train_upsample).value_counts(normalize=True)"
      ],
      "execution_count": null,
      "outputs": []
    },
    {
      "cell_type": "markdown",
      "metadata": {
        "id": "5NlY75THwrQ5"
      },
      "source": [
        "* SMOTE방식을 사용하여 데이터 균형을 맞춰주었다"
      ]
    },
    {
      "cell_type": "markdown",
      "metadata": {
        "id": "31HRSmCkGt2b"
      },
      "source": [
        "### Logistic Regression Model"
      ]
    },
    {
      "cell_type": "code",
      "metadata": {
        "id": "8ewQ7136nU1G"
      },
      "source": [
        "logistic1 = LogisticRegression().fit(X_train_upsample, y_train_upsample)\n",
        "\n",
        "print(\"[ training ] \")\n",
        "evaluate(logistic1, X_train_upsample, y_train_upsample)\n",
        "print(\"[ validataion ]\")\n",
        "evaluate(logistic1, X_val_pre, y_val)"
      ],
      "execution_count": null,
      "outputs": []
    },
    {
      "cell_type": "markdown",
      "metadata": {
        "id": "XfYm40B298oN"
      },
      "source": [
        "* 따로 하이퍼파라미터 튜닝없이 기본적인 로지스틱회귀모델을 적용했다\n",
        "* 모델 성능이 나름 괜찮은 것 같다"
      ]
    },
    {
      "cell_type": "markdown",
      "metadata": {
        "id": "En00s6ahGt_s"
      },
      "source": [
        "### RandomForest Classifier Model"
      ]
    },
    {
      "cell_type": "code",
      "metadata": {
        "id": "eMMvasFvG1uI"
      },
      "source": [
        "from scipy.stats import randint, uniform\n",
        "\n",
        "rf_pipe = Pipeline([(\"rf\", RandomForestClassifier(random_state=2))])\n",
        "\n",
        "param_distribs = {\n",
        "        'rf__n_estimators': randint(low=50, high=500),\n",
        "        'rf__max_depth': randint(1,30),\n",
        "        'rf__max_features': uniform(0,1),\n",
        "    }\n",
        "\n",
        "clf1 = RandomizedSearchCV(\n",
        "    rf_pipe,\n",
        "    param_distributions=param_distribs,\n",
        "    n_iter=30,\n",
        "    cv=3,\n",
        "    scoring=\"f1\",\n",
        "    verbose=1,\n",
        "    n_jobs=-1,\n",
        "    random_state=2)\n",
        "\n",
        "clf1.fit(X_train_upsample, y_train_upsample)\n",
        "rf_pipe = clf1.best_estimator_"
      ],
      "execution_count": null,
      "outputs": []
    },
    {
      "cell_type": "code",
      "metadata": {
        "id": "rjHQfJtl_zCR"
      },
      "source": [
        "print(\"[ training ] \")\n",
        "evaluate(rf_pipe, X_train_upsample, y_train_upsample)\n",
        "print(\"[ validataion ]\")\n",
        "evaluate(rf_pipe, X_val_pre, y_val)"
      ],
      "execution_count": null,
      "outputs": []
    },
    {
      "cell_type": "markdown",
      "metadata": {
        "id": "13FQlkz391D2"
      },
      "source": [
        "* 랜덤포레스트 모델은 하이퍼파라미터 튜닝 후 최적의 파라미터를 적용했지만, 훈련데이터셋에 상당히 과적합된 모델성능을 보여준다"
      ]
    },
    {
      "cell_type": "markdown",
      "metadata": {
        "id": "Qe7s_1uyG10Q"
      },
      "source": [
        "### Xgboost Model"
      ]
    },
    {
      "cell_type": "code",
      "metadata": {
        "id": "A89MCLj2-6Ha"
      },
      "source": [
        "xgb_pipe = Pipeline([(\"xgb\",XGBClassifier(random_state=2, n_jobs=-1))])\n",
        "\n",
        "param_distribs = {'xgb__n_estimators': randint(low=50, high=500), \n",
        "                'xgb__learning_rate': [0.05, 0.1, 0.2],\n",
        "                'xgb__max_depth' : randint(1,30),\n",
        "              }\n",
        "\n",
        "\n",
        "clf2 = RandomizedSearchCV(\n",
        "    xgb_pipe,\n",
        "    param_distributions=param_distribs,\n",
        "    n_iter=30,\n",
        "    cv=3,\n",
        "    scoring=\"f1\",\n",
        "    verbose=1,\n",
        "    n_jobs=-1,\n",
        "    random_state=2)\n",
        "\n",
        "clf2.fit(X_train_upsample, y_train_upsample)\n",
        "xgb_pipe = clf2.best_estimator_"
      ],
      "execution_count": null,
      "outputs": []
    },
    {
      "cell_type": "code",
      "metadata": {
        "id": "Ho2V99LrAD66"
      },
      "source": [
        "print(\"[ training ] \")\n",
        "evaluate(xgb_pipe, X_train_upsample, y_train_upsample)\n",
        "print(\"[ validataion ]\")\n",
        "evaluate(xgb_pipe, X_val_pre, y_val)"
      ],
      "execution_count": null,
      "outputs": []
    },
    {
      "cell_type": "markdown",
      "source": [
        "* 여전히 모델의 과적합이 심하다\n",
        "* 이전 모델에서보다 일반화 성능이 더 떨어진 모습이다"
      ],
      "metadata": {
        "id": "Yx5Cfyoep4Ad"
      }
    },
    {
      "cell_type": "markdown",
      "metadata": {
        "id": "kguJ1rs1urGG"
      },
      "source": [
        "### LightGBM"
      ]
    },
    {
      "cell_type": "code",
      "metadata": {
        "id": "nDoZDvs_CUxI"
      },
      "source": [
        "from lightgbm import LGBMClassifier\n",
        "\n",
        "lgbm_pipe = Pipeline([(\"lgbm\", LGBMClassifier(random_state=2, n_jobs=-1, objective=\"binary\"))]    \n",
        ")\n",
        "\n",
        "param_distributions = {'lgbm__n_estimators': randint(low=50, high=500), \n",
        "              'lgbm__learning_rate': [None, 0.05, 0.1, 0.2],\n",
        "              'lgbm__max_depth' : randint(1,15),\n",
        "              'lgbm__num_leaves': randint(1,50),\n",
        "              'lgbm__max_features': uniform(0,1),\n",
        "              }\n",
        "\n",
        "\n",
        "clf3 = RandomizedSearchCV(\n",
        "    lgbm_pipe,\n",
        "    param_distributions=param_distributions,\n",
        "    n_iter=40,\n",
        "    cv=3,\n",
        "    scoring=\"f1\",\n",
        "    verbose=1,\n",
        "    n_jobs=-1,\n",
        "    random_state=2)\n",
        "\n",
        "clf3.fit(X_train_upsample, y_train_upsample)\n",
        "lgbm_pipe = clf3.best_estimator_"
      ],
      "execution_count": null,
      "outputs": []
    },
    {
      "cell_type": "code",
      "metadata": {
        "id": "H6RuIQ3SD0NB"
      },
      "source": [
        "print(\"[ training ]\")\n",
        "evaluate(lgbm_pipe, X_train_upsample, y_train_upsample)\n",
        "print(\"[ validataion ]\")\n",
        "evaluate(lgbm_pipe, X_val_pre, y_val)"
      ],
      "execution_count": null,
      "outputs": []
    },
    {
      "cell_type": "markdown",
      "metadata": {
        "id": "iS5mRA9rfkd-"
      },
      "source": [
        "* LGBM 역시 과적합이 존재하긴 하지만 검정 테스트셋에서도 그렇게 나쁜 성능을 보이진 않고 있다\n",
        "* 무엇보다 모델이 빨리 돌아가서 시간적인 측면에서 장점이 크다\n",
        "* LGBM을 최종모델로 선정해보려 한다\n"
      ]
    },
    {
      "cell_type": "code",
      "metadata": {
        "id": "k-M0rlJdQF3j"
      },
      "source": [
        "X_test_pre = preprocessing_pipe.transform(X_test)\n",
        "\n",
        "print(\"[ test ]\")\n",
        "evaluate(lgbm_pipe, X_test_pre, y_test)"
      ],
      "execution_count": null,
      "outputs": []
    },
    {
      "cell_type": "markdown",
      "metadata": {
        "id": "p4pqL_yS7Ip5"
      },
      "source": [
        "* test set에서도 검증 데이터셋에서 확인했던 모델 성능과 비슷한 결과를 내주었다\n",
        "* 어느정도 과적합이 있긴했지만 일반화 성능도 나쁘지는 않은 것 같다\n",
        "* BaselineModel과 비교했을 때, F1_score, Recall과 같은 지표에서 성능이 굉장히 개선되었다."
      ]
    },
    {
      "cell_type": "markdown",
      "metadata": {
        "id": "44Z95LSXLCgA"
      },
      "source": [
        "## 분석결과 시각화"
      ]
    },
    {
      "cell_type": "markdown",
      "metadata": {
        "id": "Njx8g-W7LHFu"
      },
      "source": [
        "### 변수 중요도\n"
      ]
    },
    {
      "cell_type": "code",
      "metadata": {
        "id": "o8DWRNWevHv7"
      },
      "source": [
        "from eli5.sklearn import PermutationImportance\n",
        "\n",
        "permuter = PermutationImportance(\n",
        "    lgbm_pipe.named_steps[\"lgbm\"],\n",
        "    scoring=\"f1\",\n",
        "    n_iter=5,\n",
        "    random_state=2\n",
        ")\n",
        "\n",
        "permuter.fit(X_val_pre, y_val)"
      ],
      "execution_count": null,
      "outputs": []
    },
    {
      "cell_type": "code",
      "metadata": {
        "id": "3tigputRMAAd"
      },
      "source": [
        "import eli5\n",
        "enc = preprocessing_pipe.named_steps[\"encoder\"]\n",
        "feature_names = enc.get_feature_names()\n",
        "\n",
        "\n",
        "perm_imp_df = pd.DataFrame()\n",
        "perm_imp_df[\"feature\"] = feature_names\n",
        "perm_imp_df[\"importance\"] = permuter.feature_importances_\n",
        "perm_imp_df = perm_imp_df.sort_values([\"importance\"],ascending=False)\n",
        "\n",
        "plt.figure(figsize=(10,10))\n",
        "sns.barplot(x=\"importance\", y=\"feature\", data=perm_imp_df)\n",
        "plt.title(\"Permutation Importance by LGBM\");"
      ],
      "execution_count": null,
      "outputs": []
    },
    {
      "cell_type": "markdown",
      "metadata": {
        "id": "TQDS87HaHklK"
      },
      "source": [
        "* Feature Engineering으로 만들어낸 변수들이 어느정도 상위에 랭크하고 있다\n",
        "* 상위랭크 : contract_month_to_month, tenure, internetservice_Fiber optic, contract_two_year, predicted_diff\n",
        "* 하위랭크 : streamingmovies, seniorcitizenn, contract_one_year, deviceprotection, techsupport, onlinebackup"
      ]
    },
    {
      "cell_type": "code",
      "metadata": {
        "id": "J1upq1EmL8pj"
      },
      "source": [
        "# 상위랭크(top3)에 위치한 변수들의 영향도를 살펴보자\n",
        "features = perm_imp_df[\"feature\"].iloc[:3].tolist()\n",
        "X_test_df = pd.DataFrame(X_test_pre, columns=feature_names)\n",
        "\n",
        "for feature in features:\n",
        "    isolated = pdp_isolate(\n",
        "        model = lgbm_pipe,\n",
        "        dataset=X_test_df,\n",
        "        model_features = feature_names,\n",
        "        feature=feature\n",
        "        # feature = feature,\n",
        "        # grid_type = \"percentile\",\n",
        "        # num_grid_points = 10\n",
        "    )\n",
        "    sns.set(font_scale=2)\n",
        "    pdp_plot(isolated, feature_name=feature);"
      ],
      "execution_count": null,
      "outputs": []
    },
    {
      "cell_type": "markdown",
      "metadata": {
        "id": "20XAdvI_AviQ"
      },
      "source": [
        "* EDA 분석에서 분석했던 결과와 거의 동일한 영향을 미치고 있다"
      ]
    },
    {
      "cell_type": "markdown",
      "metadata": {
        "id": "8dsnM-wWuaai"
      },
      "source": [
        "## 모델의 한계\n",
        "* 데이터의 크기가 작아서 과적합될 우려가 있다\n",
        "* 과적합 문제를 완전히 해결하진 못했다\n",
        "* 데이터 수급이 굉장히 간단하게 되어 있고, 변수 자체도 정제되어 들어와있는데, 이러한 데이터를 만나기는 쉽지 않다"
      ]
    },
    {
      "cell_type": "markdown",
      "metadata": {
        "id": "LKT3Bfvvuaez"
      },
      "source": [
        "## 모델의 유용성\n",
        "* 해당 모델에서 살펴봤던 타겟변수와 피쳐들의 관계에 대한 분석은 추후 고객 유지 방법을 모색할 때 유용한 지표로 사용될 수 있다"
      ]
    },
    {
      "cell_type": "code",
      "metadata": {
        "id": "aW7Nf99xuai3"
      },
      "source": [],
      "execution_count": null,
      "outputs": []
    }
  ]
}